{
 "cells": [
  {
   "cell_type": "markdown",
   "metadata": {},
   "source": [
    "# Assignment 3.1: Eigenmodes"
   ]
  },
  {
   "cell_type": "markdown",
   "metadata": {},
   "source": [
    "This code runs part 3.1 of Assignment 3: Eigenmodes of drums or membranes of different shapes"
   ]
  },
  {
   "cell_type": "code",
   "execution_count": null,
   "metadata": {},
   "outputs": [],
   "source": [
    "import src.diagonal_matrix as dm\n",
    "\n",
    "from IPython.display import HTML, display\n",
    "\n",
    "import numpy as np\n",
    "import time\n",
    "\n",
    "import numpy as np\n",
    "import scipy.linalg\n",
    "import scipy.sparse\n",
    "import scipy.sparse.linalg\n",
    "import time\n",
    "import matplotlib.pyplot as plt\n",
    "import matplotlib.animation as animation"
   ]
  },
  {
   "cell_type": "markdown",
   "metadata": {},
   "source": [
    "### 1.1 Matrix of eigenvalue problem"
   ]
  },
  {
   "cell_type": "markdown",
   "metadata": {},
   "source": [
    "The following function creates a diagonal Matrix for the eigenvalue problem with Dirichlet boundary conditions."
   ]
  },
  {
   "cell_type": "code",
   "execution_count": null,
   "metadata": {},
   "outputs": [],
   "source": [
    "# The length of the system matrix\n",
    "length = 4\n",
    "\n",
    "diag_M = dm.diagonal_matrix(length)\n",
    "\n",
    "print(diag_M)"
   ]
  },
  {
   "cell_type": "markdown",
   "metadata": {},
   "source": [
    "Note: It may not be visible on the output, but the 4th position from (-4) in either direction contains a 1 such that: [..., 0, 1, 0, 0, 1, -4, 1, 0, 0, 1, 0, ...]. Except for the boundary, each row/column will contain 5 entries, alligning with the 5-point-stencil. "
   ]
  },
  {
   "cell_type": "markdown",
   "metadata": {},
   "source": [
    "We can visualize this matrix with the following function. Note that for larger values of N, you should pass the parameter text='OFF'. "
   ]
  },
  {
   "cell_type": "code",
   "execution_count": null,
   "metadata": {},
   "outputs": [],
   "source": [
    "fig = dm.visualize_diag_matrix(diag_M, length)"
   ]
  },
  {
   "cell_type": "markdown",
   "metadata": {},
   "source": [
    "We can also visualise the matrix of the circular and rectangular grid"
   ]
  },
  {
   "cell_type": "code",
   "execution_count": null,
   "metadata": {},
   "outputs": [],
   "source": [
    "# Rectangular (L by 2L)\n",
    "\n",
    "diag_M = dm.diagonal_rectangular(length)\n",
    "\n",
    "# Number of rows/columns\n",
    "N = 8\n",
    "fig = dm.visualize_diag_matrix(diag_M, N, text='OFF')"
   ]
  },
  {
   "cell_type": "code",
   "execution_count": null,
   "metadata": {},
   "outputs": [],
   "source": [
    "# Circular \n",
    "N = 9\n",
    "\n",
    "diag_M = dm.diagonal_matrix(N)\n",
    "grid = dm.circular_domain(N)\n",
    "diag_M = dm.diagonal_circle(grid, diag_M, N)\n",
    "\n",
    "fig = dm.visualize_diag_matrix(diag_M, N, text='OFF')\n"
   ]
  },
  {
   "cell_type": "markdown",
   "metadata": {},
   "source": [
    "### 1.2 Eigenmodes"
   ]
  },
  {
   "cell_type": "markdown",
   "metadata": {},
   "source": [
    "We can now get and visualise the eigenmodes with the following function. We will take a larger matrix to better visualise it. Note that high values for N and multiple modes will take longer to run."
   ]
  },
  {
   "cell_type": "code",
   "execution_count": null,
   "metadata": {},
   "outputs": [],
   "source": [
    "# Number of modes to display\n",
    "modes = 6\n",
    "length = 50\n",
    "\n",
    "diag_M = dm.diagonal_matrix(length)\n",
    "\n",
    "eigenvalues, _, _, eigenmodes = dm.get_eigenmodes(diag_M, length, modes)\n",
    "dm.visualize_multiple_modes(eigenmodes, eigenvalues, length, modes)\n"
   ]
  },
  {
   "cell_type": "markdown",
   "metadata": {},
   "source": [
    "### 1.3 Eigenmodes of Rectangular and Circular grid"
   ]
  },
  {
   "cell_type": "code",
   "execution_count": null,
   "metadata": {},
   "outputs": [],
   "source": [
    "# Rectangular\n",
    "modes = 6\n",
    "length = 50\n",
    "\n",
    "# Rectangular (L by 2L)\n",
    "diag_M = dm.diagonal_rectangular(length)\n",
    "\n",
    "# Number of rows/columns\n",
    "eigenvalues, _, _, eigenmodes = dm.get_eigenmodes_rectangular(diag_M, length, modes)\n",
    "dm.visualize_multiple_modes(eigenmodes, eigenvalues, length, modes)\n"
   ]
  },
  {
   "cell_type": "code",
   "execution_count": null,
   "metadata": {},
   "outputs": [],
   "source": [
    "# Rectangular\n",
    "modes = 6\n",
    "N = 50\n",
    "\n",
    "#diag_M = dm.diagonal_rectangular(N)\n",
    "#grid = dm.rectangular_domain(N) \n",
    "#diag_M = dm.diagonal_rectangle(grid, diag_M, N)\n",
    "\n",
    "#eigenvalues, _, _, eigenmodes = dm.get_eigenmodes_rectangular(diag_M, N, modes)\n",
    "#dm.visualize_multiple_modes(eigenmodes, eigenvalues, N, modes)\n",
    "\n",
    "\n",
    "M = dm.diagonal_rectangular(N)\n",
    "eigvals, eigvecs, _, eigenmodes = dm.get_eigenmodes_rectangular(M, N, modes)\n",
    "dm.visualize_rectangular_modes(eigenmodes, eigvals, N, modes)"
   ]
  },
  {
   "cell_type": "code",
   "execution_count": null,
   "metadata": {},
   "outputs": [],
   "source": [
    "# Circular\n",
    "N = 49\n",
    "modes = 6\n",
    "\n",
    "diag_M = dm.diagonal_matrix(N)\n",
    "grid = dm.circular_domain(N)\n",
    "diag_M = dm.diagonal_circle(grid, diag_M, N) \n",
    "\n",
    "eigenvalues, _, _, eigenmodes = dm.get_eigenmodes_circular(diag_M, grid, N, modes)\n",
    "dm.visualize_multiple_modes(eigenmodes, eigenvalues, N, modes)\n"
   ]
  },
  {
   "cell_type": "code",
   "execution_count": null,
   "metadata": {},
   "outputs": [],
   "source": [
    "modes = 6\n",
    "N = 50\n",
    "\n",
    "# Time for square \n",
    "diag_M = dm.diagonal_matrix(N)\n",
    "\n",
    "start_time = time.perf_counter() # Start Time Square reg\n",
    "dm.get_eigenmodes(diag_M, N, modes)\n",
    "end_time = time.perf_counter()  # End Time Square reg\n",
    "elapsed_time = end_time - start_time\n",
    "print(f\"Time for regular square matrix: {elapsed_time}\")\n",
    "\n",
    "start_time = time.perf_counter() # Start Time Square sparse\n",
    "dm.get_eigenmodes_sparse_square(diag_M, N, modes)\n",
    "end_time = time.perf_counter()  # End Time Square sparse\n",
    "elapsed_time = end_time - start_time\n",
    "print(f\"Time for sparse square matrix: {elapsed_time}\")\n",
    "\n",
    "\n",
    "# time for rectangle\n",
    "diag_M = dm.diagonal_rectangular(N)\n",
    "\n",
    "start_time = time.perf_counter() # Start Time Rectangle reg\n",
    "dm.get_eigenmodes_rectangular(diag_M, N, modes)\n",
    "end_time = time.perf_counter()  # End Time rectangle reg\n",
    "elapsed_time = end_time - start_time\n",
    "print(f\"Time for regular rectangular matrix: {elapsed_time}\")\n",
    "\n",
    "start_time = time.perf_counter() # Start Time Rectangle sparse\n",
    "dm.get_eigenmodes_sparse_rectangular(diag_M, N, modes)\n",
    "end_time = time.perf_counter()  # End Time rectangle sparse\n",
    "elapsed_time = end_time - start_time\n",
    "print(f\"Time for sparse rectangular matrix: {elapsed_time}\")\n",
    "\n",
    "\n",
    "# Time for circle\n",
    "diag_M = dm.diagonal_matrix(N)\n",
    "grid = dm.circular_domain(N)\n",
    "diag_M = dm.diagonal_circle(grid, diag_M, N) \n",
    "\n",
    "start_time = time.perf_counter() # Start Time Circle reg\n",
    "dm.get_eigenmodes_circular(diag_M, grid, N, modes)\n",
    "end_time = time.perf_counter()  # End Time Circle reg\n",
    "elapsed_time = end_time - start_time\n",
    "print(f\"Time for regular circular matrix: {elapsed_time}\")\n",
    "\n",
    "start_time = time.perf_counter() # Start Time Circle sparse\n",
    "dm.get_eigenmodes_sparse_circular(diag_M, grid, N, modes)\n",
    "end_time = time.perf_counter()  # End Time Circle sparse\n",
    "elapsed_time = end_time - start_time\n",
    "print(f\"Time for sparse circular matrix: {elapsed_time}\")"
   ]
  },
  {
   "cell_type": "markdown",
   "metadata": {},
   "source": [
    "We can also plot the eigenfrequencies. This results in similar patterns. Note that to run this, please uncomment the visualisation function as it may run for several minutes, or change N to a lower value. "
   ]
  },
  {
   "cell_type": "code",
   "execution_count": null,
   "metadata": {},
   "outputs": [],
   "source": [
    "dm.visualize_all_eigenfrequencies(N=50)"
   ]
  },
  {
   "cell_type": "markdown",
   "metadata": {},
   "source": [
    "### D. Eigenfrequencies and size $L$"
   ]
  },
  {
   "cell_type": "markdown",
   "metadata": {},
   "source": [
    "We don't really define the size $L$, rather our variable length/N is about the discretization of the domain. The question does seem to ask about the discretisation as well, so that sorta ends up working I guess.\n",
    "\n",
    "We could change the code slightly to define L and have length/N be a multiple of L, so that we can change L and easily change length/N as a result."
   ]
  },
  {
   "cell_type": "code",
   "execution_count": 7,
   "metadata": {},
   "outputs": [
    {
     "name": "stderr",
     "output_type": "stream",
     "text": [
      "C:\\Users\\lieso\\AppData\\Local\\Packages\\PythonSoftwareFoundation.Python.3.11_qbz5n2kfra8p0\\LocalCache\\local-packages\\Python311\\site-packages\\matplotlib\\cbook.py:1762: ComplexWarning: Casting complex values to real discards the imaginary part\n",
      "  return math.isfinite(val)\n",
      "C:\\Users\\lieso\\AppData\\Local\\Packages\\PythonSoftwareFoundation.Python.3.11_qbz5n2kfra8p0\\LocalCache\\local-packages\\Python311\\site-packages\\matplotlib\\collections.py:197: ComplexWarning: Casting complex values to real discards the imaginary part\n",
      "  offsets = np.asanyarray(offsets, float)\n"
     ]
    },
    {
     "data": {
      "image/png": "[encoded data removed]",
      "text/plain": [
       "<Figure size 1200x400 with 3 Axes>"
      ]
     },
     "metadata": {},
     "output_type": "display_data"
    }
   ],
   "source": [
    "modes = 6\n",
    "lengths = [10, 20, 50, 100]\n",
    "LL_eigenfreqs = []\n",
    "\n",
    "LL_eigenfreqs.append(dm.eigenfreqs_lengths_square(lengths))\n",
    "LL_eigenfreqs.append(dm.eigenfreqs_lengths_rectangle(lengths))\n",
    "LL_eigenfreqs.append(dm.eigenfreqs_lengths_circular([x-1 for x in lengths]))\n",
    "\n",
    "dm.visualise_eigenfreqs_lengths(lengths, LL_eigenfreqs)"
   ]
  },
  {
   "cell_type": "markdown",
   "metadata": {},
   "source": [
    "### E: Time-dependence"
   ]
  },
  {
   "cell_type": "markdown",
   "metadata": {},
   "source": [
    "$u(x,y,t) = v(x,y) T(t)$ \n",
    "\n",
    "where:\n",
    "- $v(x,y)$ is the eiegnvector solution (eigenmode) such as those found in 1.2 and 1.3\n",
    "- $T(t) = A cos(c \\lambda t) + B sin(c \\lambda t)$"
   ]
  },
  {
   "cell_type": "code",
   "execution_count": null,
   "metadata": {},
   "outputs": [],
   "source": [
    "A = B = 1\n",
    "c = 1\n",
    "mode = 2\n",
    "length = 50\n",
    "\n",
    "diag_M = dm.diagonal_matrix(length)\n",
    "\n",
    "eigenvals, _, _, eigenmodes = dm.get_eigenmodes(diag_M, length, mode)\n",
    "\n",
    "eigenval = eigenvals[-1]\n",
    "eigenmode = eigenmodes[:, :, -1]\n",
    "\n",
    "ani = dm.time_dependent_animation_square(eigenmode, eigenval, 1, 0.01, A, B, c)\n",
    "ani.save(f'results/2Dwave_mode{mode}.gif', writer='pillow')\n",
    "\n",
    "# Display animation as HTML5 video\n",
    "display(HTML(ani.to_jshtml(fps=30, default_mode='loop')))"
   ]
  },
  {
   "cell_type": "markdown",
   "metadata": {},
   "source": [
    "We can also plot multiple heatmaps of the displacement of the membrane at different timesteps to insert into the report."
   ]
  },
  {
   "cell_type": "code",
   "execution_count": null,
   "metadata": {},
   "outputs": [],
   "source": [
    "A = B = 1\n",
    "c = 1\n",
    "mode = 2\n",
    "length = 50\n",
    "\n",
    "diag_M = dm.diagonal_matrix(length)\n",
    "\n",
    "eigenvals, _, _, eigenmodes = dm.get_eigenmodes(diag_M, length, mode)\n",
    "\n",
    "eigenval = eigenvals[-1]\n",
    "eigenmode = eigenmodes[:, :, -1]\n",
    "\n",
    "dm.time_dependent_visualise_square(eigenmode, eigenval, 0.1, 9, 1, 1, 1)"
   ]
  },
  {
   "cell_type": "markdown",
   "metadata": {},
   "source": [
    "# Assignment 3.2: Direct Methods for Solving Diffusion Equation "
   ]
  },
  {
   "cell_type": "code",
   "execution_count": null,
   "metadata": {},
   "outputs": [],
   "source": [
    "import src.direct as direct "
   ]
  },
  {
   "cell_type": "markdown",
   "metadata": {},
   "source": [
    "In this section we attempt to solve the discretized diffusion equation using Direct method (LU Decomposition)"
   ]
  },
  {
   "cell_type": "code",
   "execution_count": null,
   "metadata": {},
   "outputs": [],
   "source": [
    "N = 100  # Dimensions of the Grid to use \n",
    "radius = 2.0 # Radius of the circular domain\n",
    "#Co-ordinates of the source\n",
    "source_x = 0.6 \n",
    "source_y = 1.2 "
   ]
  },
  {
   "cell_type": "code",
   "execution_count": null,
   "metadata": {},
   "outputs": [],
   "source": [
    "X, Y, C = direct.solve_diffusion_direct(N, radius, source_x, source_y)"
   ]
  },
  {
   "cell_type": "markdown",
   "metadata": {},
   "source": [
    "### 3.G Steady - State Concentration Plot"
   ]
  },
  {
   "cell_type": "code",
   "execution_count": null,
   "metadata": {},
   "outputs": [],
   "source": [
    "direct.plot_solution(X, Y, C, radius, source_x, source_y)"
   ]
  }
 ],
 "metadata": {
  "kernelspec": {
   "display_name": "base",
   "language": "python",
   "name": "python3"
  },
  "language_info": {
   "codemirror_mode": {
    "name": "ipython",
    "version": 3
   },
   "file_extension": ".py",
   "mimetype": "text/x-python",
   "name": "python",
   "nbconvert_exporter": "python",
   "pygments_lexer": "ipython3",
   "version": "3.12.4"
  }
 },
 "nbformat": 4,
 "nbformat_minor": 2
}
