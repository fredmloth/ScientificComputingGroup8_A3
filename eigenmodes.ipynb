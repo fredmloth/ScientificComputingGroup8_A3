{
 "cells": [
  {
   "cell_type": "markdown",
   "metadata": {},
   "source": [
    "# Assignment 3.1: Eigenmodes"
   ]
  },
  {
   "cell_type": "markdown",
   "metadata": {},
   "source": [
    "This code runs part 3.1 of Assignment 3: Eigenmodes of drums or membranes of different shapes"
   ]
  },
  {
   "cell_type": "code",
   "execution_count": null,
   "metadata": {},
   "outputs": [],
   "source": [
    "import src.diagonal_matrix as dm\n",
    "import numpy as np\n",
    "import time"
   ]
  },
  {
   "cell_type": "markdown",
   "metadata": {},
   "source": [
    "### 1.1 Matrix of eigenvalue problem"
   ]
  },
  {
   "cell_type": "markdown",
   "metadata": {},
   "source": [
    "The following function creates a diagonal Matrix for the eigenvalue problem with Dirichlet boundary conditions."
   ]
  },
  {
   "cell_type": "code",
   "execution_count": null,
   "metadata": {},
   "outputs": [],
   "source": [
    "# The length of the system matrix\n",
    "length = 4\n",
    "\n",
    "diag_M = dm.diagonal_matrix(length)\n",
    "\n",
    "print(diag_M)"
   ]
  },
  {
   "cell_type": "markdown",
   "metadata": {},
   "source": [
    "Note: It may not be visible on the output, but the 4th position from (-4) in either direction contains a 1 such that: [..., 0, 1, 0, 0, 1, -4, 1, 0, 0, 1, 0, ...]. Except for the boundary, each row/column will contain 5 entries, alligning with the 5-point-stencil. "
   ]
  },
  {
   "cell_type": "markdown",
   "metadata": {},
   "source": [
    "We can visualize this matrix with the following function. Note that for larger values of N, you should pass the parameter text='OFF'. "
   ]
  },
  {
   "cell_type": "code",
   "execution_count": null,
   "metadata": {},
   "outputs": [],
   "source": [
    "fig = dm.visualize_diag_matrix(diag_M, length)"
   ]
  },
  {
   "cell_type": "markdown",
   "metadata": {},
   "source": [
    "We can also visualise the matrix of the circular and rectangular grid"
   ]
  },
  {
   "cell_type": "code",
   "execution_count": null,
   "metadata": {},
   "outputs": [],
   "source": [
    "# Rectangular (L by 2L)\n",
    "\n",
    "diag_M = dm.diagonal_rectangular(length)\n",
    "\n",
    "# Number of rows/columns\n",
    "N = 8\n",
    "fig = dm.visualize_diag_matrix(diag_M, N, text='OFF')"
   ]
  },
  {
   "cell_type": "code",
   "execution_count": null,
   "metadata": {},
   "outputs": [],
   "source": [
    "# Circular \n",
    "N = 9\n",
    "\n",
    "diag_M = dm.diagonal_matrix(N)\n",
    "grid = dm.circular_domain(N)\n",
    "diag_M = dm.diagonal_circle(grid, diag_M, N)\n",
    "\n",
    "fig = dm.visualize_diag_matrix(diag_M, N, text='OFF')\n"
   ]
  },
  {
   "cell_type": "markdown",
   "metadata": {},
   "source": [
    "### 1.2 Eigenmodes"
   ]
  },
  {
   "cell_type": "markdown",
   "metadata": {},
   "source": [
    "We can now get and visualise the eigenmodes with the following function. We will take a larger matrix to better visualise it. Note that high values for N and multiple modes will take longer to run."
   ]
  },
  {
   "cell_type": "code",
   "execution_count": null,
   "metadata": {},
   "outputs": [],
   "source": [
    "# Number of modes to display\n",
    "modes = 6\n",
    "length = 50\n",
    "\n",
    "diag_M = dm.diagonal_matrix(length)\n",
    "\n",
    "eigenvalues, _, _, eigenmodes = dm.get_eigenmodes(diag_M, length, modes)\n",
    "dm.visualize_multiple_modes(eigenmodes, eigenvalues, length, modes)\n"
   ]
  },
  {
   "cell_type": "markdown",
   "metadata": {},
   "source": [
    "### 1.3 Eigenmodes of Rectangular and Circular grid"
   ]
  },
  {
   "cell_type": "code",
   "execution_count": null,
   "metadata": {},
   "outputs": [],
   "source": [
    "# Rectangular\n",
    "modes = 6\n",
    "length = 50\n",
    "\n",
    "# Rectangular (L by 2L)\n",
    "diag_M = dm.diagonal_rectangular(length)\n",
    "\n",
    "# Number of rows/columns\n",
    "eigenvalues, _, _, eigenmodes = dm.get_eigenmodes_rectangular(diag_M, length, modes)\n",
    "dm.visualize_multiple_modes(eigenmodes, eigenvalues, length, modes)\n"
   ]
  },
  {
   "cell_type": "code",
   "execution_count": null,
   "metadata": {},
   "outputs": [],
   "source": [
    "# Define grid size\n",
    "N = 49\n",
    "modes = 6\n",
    "\n",
    "diag_M = dm.diagonal_matrix(N)\n",
    "grid = dm.circular_domain(N)\n",
    "diag_M = dm.diagonal_circle(grid, diag_M, N) \n",
    "\n",
    "eigenvalues, _, _, eigenmodes = dm.get_eigenmodes_circular(diag_M, grid, N, modes)\n",
    "dm.visualize_multiple_modes(eigenmodes, eigenvalues, N, modes)\n"
   ]
  },
  {
   "cell_type": "code",
   "execution_count": null,
   "metadata": {},
   "outputs": [],
   "source": [
    "\n",
    "modes = 6\n",
    "N = 50\n",
    "\n",
    "# Time for square \n",
    "diag_M = dm.diagonal_matrix(N)\n",
    "\n",
    "start_time = time.perf_counter() # Start Time Square reg\n",
    "dm.get_eigenmodes(diag_M, N, modes)\n",
    "end_time = time.perf_counter()  # End Time Square reg\n",
    "elapsed_time = end_time - start_time\n",
    "print(f\"Time for regular square matrix: {elapsed_time}\")\n",
    "\n",
    "start_time = time.perf_counter() # Start Time Square sparse\n",
    "dm.get_eigenmodes_sparse_square(diag_M, N, modes)\n",
    "end_time = time.perf_counter()  # End Time Square sparse\n",
    "elapsed_time = end_time - start_time\n",
    "print(f\"Time for sparse square matrix: {elapsed_time}\")\n",
    "\n",
    "\n",
    "# time for rectangle\n",
    "diag_M = dm.diagonal_rectangular(N)\n",
    "\n",
    "start_time = time.perf_counter() # Start Time Rectangle reg\n",
    "dm.get_eigenmodes_rectangular(diag_M, N, modes)\n",
    "end_time = time.perf_counter()  # End Time rectangle reg\n",
    "elapsed_time = end_time - start_time\n",
    "print(f\"Time for regular rectangular matrix: {elapsed_time}\")\n",
    "\n",
    "start_time = time.perf_counter() # Start Time Rectangle sparse\n",
    "dm.get_eigenmodes_sparse_rectangle(diag_M, N, modes)\n",
    "end_time = time.perf_counter()  # End Time rectangle sparse\n",
    "elapsed_time = end_time - start_time\n",
    "print(f\"Time for sparse rectangular matrix: {elapsed_time}\")\n",
    "\n",
    "\n",
    "# Time for circle\n",
    "diag_M = dm.diagonal_matrix(N)\n",
    "grid = dm.circular_domain(N)\n",
    "diag_M = dm.diagonal_circle(grid, diag_M, N) \n",
    "\n",
    "start_time = time.perf_counter() # Start Time Circle reg\n",
    "dm.get_eigenmodes_circular(diag_M, grid, N, modes)\n",
    "end_time = time.perf_counter()  # End Time Circle reg\n",
    "elapsed_time = end_time - start_time\n",
    "print(f\"Time for regular circular matrix: {elapsed_time}\")\n",
    "\n",
    "start_time = time.perf_counter() # Start Time Circle sparse\n",
    "dm.get_eigenmodes_sparse_circular(diag_M, grid, N, modes)\n",
    "end_time = time.perf_counter()  # End Time Circle sparse\n",
    "elapsed_time = end_time - start_time\n",
    "print(f\"Time for sparse circular matrix: {elapsed_time}\")\n"
   ]
  },
  {
   "cell_type": "markdown",
   "metadata": {},
   "source": []
  }
 ],
 "metadata": {
  "kernelspec": {
   "display_name": "base",
   "language": "python",
   "name": "python3"
  },
  "language_info": {
   "codemirror_mode": {
    "name": "ipython",
    "version": 3
   },
   "file_extension": ".py",
   "mimetype": "text/x-python",
   "name": "python",
   "nbconvert_exporter": "python",
   "pygments_lexer": "ipython3",
   "version": "3.12.4"
  }
 },
 "nbformat": 4,
 "nbformat_minor": 2
}
